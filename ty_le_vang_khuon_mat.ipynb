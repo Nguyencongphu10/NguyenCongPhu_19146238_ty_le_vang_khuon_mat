{
  "cells": [
    {
      "cell_type": "code",
      "source": [
        "!pip install face_recognition"
      ],
      "metadata": {
        "colab": {
          "base_uri": "https://localhost:8080/"
        },
        "id": "ZDJnvZ29livV",
        "outputId": "595ecd86-1ab3-4c8e-9798-3b8e2ac0025f"
      },
      "execution_count": 1,
      "outputs": [
        {
          "output_type": "stream",
          "name": "stdout",
          "text": [
            "Looking in indexes: https://pypi.org/simple, https://us-python.pkg.dev/colab-wheels/public/simple/\n",
            "Collecting face_recognition\n",
            "  Downloading face_recognition-1.3.0-py2.py3-none-any.whl (15 kB)\n",
            "Requirement already satisfied: Click>=6.0 in /usr/local/lib/python3.7/dist-packages (from face_recognition) (7.1.2)\n",
            "Requirement already satisfied: Pillow in /usr/local/lib/python3.7/dist-packages (from face_recognition) (7.1.2)\n",
            "Collecting face-recognition-models>=0.3.0\n",
            "  Downloading face_recognition_models-0.3.0.tar.gz (100.1 MB)\n",
            "\u001b[K     |████████████████████████████████| 100.1 MB 19 kB/s \n",
            "\u001b[?25hRequirement already satisfied: dlib>=19.7 in /usr/local/lib/python3.7/dist-packages (from face_recognition) (19.18.0+zzzcolab20220513001918)\n",
            "Requirement already satisfied: numpy in /usr/local/lib/python3.7/dist-packages (from face_recognition) (1.21.6)\n",
            "Building wheels for collected packages: face-recognition-models\n",
            "  Building wheel for face-recognition-models (setup.py) ... \u001b[?25l\u001b[?25hdone\n",
            "  Created wheel for face-recognition-models: filename=face_recognition_models-0.3.0-py2.py3-none-any.whl size=100566186 sha256=1fbd1b7e7e7ab1e741fbad3f69b519359451c733e1902ae5f7d22589f3efe006\n",
            "  Stored in directory: /root/.cache/pip/wheels/d6/81/3c/884bcd5e1c120ff548d57c2ecc9ebf3281c9a6f7c0e7e7947a\n",
            "Successfully built face-recognition-models\n",
            "Installing collected packages: face-recognition-models, face-recognition\n",
            "Successfully installed face-recognition-1.3.0 face-recognition-models-0.3.0\n"
          ]
        }
      ]
    },
    {
      "cell_type": "code",
      "execution_count": 2,
      "metadata": {
        "id": "bCxRis6QlDp_"
      },
      "outputs": [],
      "source": [
        "from PIL import Image, ImageDraw\n",
        "import face_recognition\n",
        "import scipy.constants\n",
        "import numpy as np\n",
        "import cv2\n",
        "import matplotlib.pyplot as plt\n",
        "import matplotlib.image as mpimg\n",
        "\n",
        "from os import listdir\n",
        "from numpy import asarray\n",
        "from numpy import save\n",
        "from keras.preprocessing.image import load_img, img_to_array\n",
        "\n",
        "from PIL import Image as Img\n",
        "from PIL import ImageTk"
      ]
    },
    {
      "cell_type": "code",
      "source": [
        "from google.colab import drive\n",
        "drive.mount('/content/gdrive')"
      ],
      "metadata": {
        "colab": {
          "base_uri": "https://localhost:8080/"
        },
        "id": "k3bInsLMlMjQ",
        "outputId": "8bde1164-86e1-4850-8687-b500eb618e24"
      },
      "execution_count": 3,
      "outputs": [
        {
          "output_type": "stream",
          "name": "stdout",
          "text": [
            "Mounted at /content/gdrive\n"
          ]
        }
      ]
    },
    {
      "cell_type": "markdown",
      "source": [
        "### chụp ảnh trên colab"
      ],
      "metadata": {
        "id": "_xK-y__QwPk5"
      }
    },
    {
      "cell_type": "code",
      "source": [
        "from IPython.display import display, Javascript\n",
        "from google.colab.output import eval_js\n",
        "from base64 import b64decode\n",
        "\n",
        "def take_photo(filename='/content/gdrive/MyDrive/khuonmat/photo.jpg', quality=0.8):\n",
        "  js = Javascript('''\n",
        "    async function takePhoto(quality) {\n",
        "      const div = document.createElement('div');\n",
        "      const capture = document.createElement('button');\n",
        "      capture.textContent = 'Capture';\n",
        "      div.appendChild(capture);\n",
        "\n",
        "      const video = document.createElement('video');\n",
        "      video.style.display = 'block';\n",
        "      const stream = await navigator.mediaDevices.getUserMedia({video: true});\n",
        "\n",
        "      document.body.appendChild(div);\n",
        "      div.appendChild(video);\n",
        "      video.srcObject = stream;\n",
        "      await video.play();\n",
        "\n",
        "      // Resize the output to fit the video element.\n",
        "      google.colab.output.setIframeHeight(document.documentElement.scrollHeight, true);\n",
        "\n",
        "      // Wait for Capture to be clicked.\n",
        "      await new Promise((resolve) => capture.onclick = resolve);\n",
        "\n",
        "      const canvas = document.createElement('canvas');\n",
        "      canvas.width = video.videoWidth;\n",
        "      canvas.height = video.videoHeight;\n",
        "      canvas.getContext('2d').drawImage(video, 0, 0);\n",
        "      stream.getVideoTracks()[0].stop();\n",
        "      div.remove();\n",
        "      return canvas.toDataURL('image/jpeg', quality);\n",
        "    }\n",
        "    ''')\n",
        "  display(js)\n",
        "  data = eval_js('takePhoto({})'.format(quality))\n",
        "  binary = b64decode(data.split(',')[1])\n",
        "  with open(filename, 'wb') as f:\n",
        "    f.write(binary)\n",
        "  return filename"
      ],
      "metadata": {
        "id": "jEmUxcJmvgXj"
      },
      "execution_count": 4,
      "outputs": []
    },
    {
      "cell_type": "code",
      "source": [
        "from IPython.display import Image\n",
        "try:\n",
        "  filename = take_photo()\n",
        "  print('Saved to {}'.format(filename))\n",
        "  \n",
        "  # Show the image which was just taken.\n",
        "  display(Image(filename))\n",
        "except Exception as err:\n",
        "  # Errors will be thrown if the user does not have a webcam or if they do not\n",
        "  # grant the page permission to access it.\n",
        "  print(str(err))"
      ],
      "metadata": {
        "colab": {
          "base_uri": "https://localhost:8080/",
          "height": 514
        },
        "id": "LwVH8qWMvgXl",
        "outputId": "15e0d2eb-d8af-40d9-c4bf-0d46c8eb700b"
      },
      "execution_count": 6,
      "outputs": [
        {
          "output_type": "display_data",
          "data": {
            "text/plain": [
              "<IPython.core.display.Javascript object>"
            ],
            "application/javascript": [
              "\n",
              "    async function takePhoto(quality) {\n",
              "      const div = document.createElement('div');\n",
              "      const capture = document.createElement('button');\n",
              "      capture.textContent = 'Capture';\n",
              "      div.appendChild(capture);\n",
              "\n",
              "      const video = document.createElement('video');\n",
              "      video.style.display = 'block';\n",
              "      const stream = await navigator.mediaDevices.getUserMedia({video: true});\n",
              "\n",
              "      document.body.appendChild(div);\n",
              "      div.appendChild(video);\n",
              "      video.srcObject = stream;\n",
              "      await video.play();\n",
              "\n",
              "      // Resize the output to fit the video element.\n",
              "      google.colab.output.setIframeHeight(document.documentElement.scrollHeight, true);\n",
              "\n",
              "      // Wait for Capture to be clicked.\n",
              "      await new Promise((resolve) => capture.onclick = resolve);\n",
              "\n",
              "      const canvas = document.createElement('canvas');\n",
              "      canvas.width = video.videoWidth;\n",
              "      canvas.height = video.videoHeight;\n",
              "      canvas.getContext('2d').drawImage(video, 0, 0);\n",
              "      stream.getVideoTracks()[0].stop();\n",
              "      div.remove();\n",
              "      return canvas.toDataURL('image/jpeg', quality);\n",
              "    }\n",
              "    "
            ]
          },
          "metadata": {}
        },
        {
          "output_type": "stream",
          "name": "stdout",
          "text": [
            "Saved to /content/gdrive/MyDrive/khuonmat/photo.jpg\n"
          ]
        },
        {
          "output_type": "display_data",
          "data": {
            "text/plain": [
              "<IPython.core.display.Image object>"
            ],
            "image/jpeg": "[encoded data removed]"
          },
          "metadata": {}
        }
      ]
    },
    {
      "cell_type": "markdown",
      "source": [
        "### Huấn luyện mô hình nhận dạng khuôn mặt"
      ],
      "metadata": {
        "id": "08K1CY_Zrh9H"
      }
    },
    {
      "cell_type": "code",
      "source": [
        "folder= '/content/gdrive/MyDrive/khuonmat/training/'\n",
        "\n",
        "photos, labels = list(), list()\n",
        "for file in listdir(folder):\n",
        "  if file.startswith('phu'):\n",
        "    output = 0\n",
        "    name ='Nguyen Cong Phu'\n",
        "    photo = load_img(folder+file,target_size=(150,150))\n",
        "    photo = img_to_array(photo)\n",
        "    photos.append(photo)\n",
        "    labels.append(output)\n",
        "\n",
        "photos = asarray(photos)\n",
        "labels = asarray(labels)\n",
        "print(photos.shape,labels.shape)\n",
        "\n",
        "save('NhanDangKhuonMat_photos.npy', photos)\n",
        "save('NhanDangKhuonMat_labels.npy', labels)"
      ],
      "metadata": {
        "colab": {
          "base_uri": "https://localhost:8080/"
        },
        "id": "G-aFzyxtqmK-",
        "outputId": "f89889db-8a1c-4edf-e270-f76c3cbbd208"
      },
      "execution_count": 8,
      "outputs": [
        {
          "output_type": "stream",
          "name": "stdout",
          "text": [
            "(3, 150, 150, 3) (3,)\n"
          ]
        }
      ]
    },
    {
      "cell_type": "code",
      "source": [
        "from keras.models import Sequential\n",
        "from keras.layers import Dense, Activation, BatchNormalization, Dropout, Conv2D, MaxPooling2D, Flatten # BatchNormalization: để dùng GPU ko lỗi\n",
        "from tensorflow.keras.optimizers import SGD\n",
        "\n",
        "model = Sequential()\n",
        "model.add(Conv2D(filters=32, kernel_size=(3, 3), activation='relu', input_shape=(150, 150, 3)))\n",
        "model.add(MaxPooling2D(2,2))\n",
        "model.add(Conv2D(filters=64, kernel_size=(3, 3), activation='relu'))\n",
        "model.add(MaxPooling2D(2,2))\n",
        "model.add(Flatten())\n",
        "model.add(Dense(64, activation='relu'))\n",
        "model.add(Dense(3, activation='softmax'))\n",
        "model.summary()\n",
        "model.compile(optimizer='adam',\n",
        "              loss='sparse_categorical_crossentropy',\n",
        "              metrics=['accuracy'])\n",
        "history = model.fit(photos, labels, epochs=100, verbose=1)"
      ],
      "metadata": {
        "colab": {
          "base_uri": "https://localhost:8080/"
        },
        "id": "7Pf9yZuxsNgp",
        "outputId": "b35b8bb5-61fe-4ff8-9834-9f2dded2bdad"
      },
      "execution_count": 9,
      "outputs": [
        {
          "output_type": "stream",
          "name": "stdout",
          "text": [
            "Model: \"sequential\"\n",
            "_________________________________________________________________\n",
            " Layer (type)                Output Shape              Param #   \n",
            "=================================================================\n",
            " conv2d (Conv2D)             (None, 148, 148, 32)      896       \n",
            "                                                                 \n",
            " max_pooling2d (MaxPooling2D  (None, 74, 74, 32)       0         \n",
            " )                                                               \n",
            "                                                                 \n",
            " conv2d_1 (Conv2D)           (None, 72, 72, 64)        18496     \n",
            "                                                                 \n",
            " max_pooling2d_1 (MaxPooling  (None, 36, 36, 64)       0         \n",
            " 2D)                                                             \n",
            "                                                                 \n",
            " flatten (Flatten)           (None, 82944)             0         \n",
            "                                                                 \n",
            " dense (Dense)               (None, 64)                5308480   \n",
            "                                                                 \n",
            " dense_1 (Dense)             (None, 3)                 195       \n",
            "                                                                 \n",
            "=================================================================\n",
            "Total params: 5,328,067\n",
            "Trainable params: 5,328,067\n",
            "Non-trainable params: 0\n",
            "_________________________________________________________________\n",
            "Epoch 1/100\n",
            "1/1 [==============================] - 11s 11s/step - loss: 0.0000e+00 - accuracy: 1.0000\n",
            "Epoch 2/100\n",
            "1/1 [==============================] - 0s 16ms/step - loss: 0.0000e+00 - accuracy: 1.0000\n",
            "Epoch 3/100\n",
            "1/1 [==============================] - 0s 12ms/step - loss: 0.0000e+00 - accuracy: 1.0000\n",
            "Epoch 4/100\n",
            "1/1 [==============================] - 0s 11ms/step - loss: 0.0000e+00 - accuracy: 1.0000\n",
            "Epoch 5/100\n",
            "1/1 [==============================] - 0s 15ms/step - loss: 0.0000e+00 - accuracy: 1.0000\n",
            "Epoch 6/100\n",
            "1/1 [==============================] - 0s 14ms/step - loss: 0.0000e+00 - accuracy: 1.0000\n",
            "Epoch 7/100\n",
            "1/1 [==============================] - 0s 13ms/step - loss: 0.0000e+00 - accuracy: 1.0000\n",
            "Epoch 8/100\n",
            "1/1 [==============================] - 0s 15ms/step - loss: 0.0000e+00 - accuracy: 1.0000\n",
            "Epoch 9/100\n",
            "1/1 [==============================] - 0s 15ms/step - loss: 0.0000e+00 - accuracy: 1.0000\n",
            "Epoch 10/100\n",
            "1/1 [==============================] - 0s 20ms/step - loss: 0.0000e+00 - accuracy: 1.0000\n",
            "Epoch 11/100\n",
            "1/1 [==============================] - 0s 13ms/step - loss: 0.0000e+00 - accuracy: 1.0000\n",
            "Epoch 12/100\n",
            "1/1 [==============================] - 0s 14ms/step - loss: 0.0000e+00 - accuracy: 1.0000\n",
            "Epoch 13/100\n",
            "1/1 [==============================] - 0s 12ms/step - loss: 0.0000e+00 - accuracy: 1.0000\n",
            "Epoch 14/100\n",
            "1/1 [==============================] - 0s 11ms/step - loss: 0.0000e+00 - accuracy: 1.0000\n",
            "Epoch 15/100\n",
            "1/1 [==============================] - 0s 15ms/step - loss: 0.0000e+00 - accuracy: 1.0000\n",
            "Epoch 16/100\n",
            "1/1 [==============================] - 0s 13ms/step - loss: 0.0000e+00 - accuracy: 1.0000\n",
            "Epoch 17/100\n",
            "1/1 [==============================] - 0s 13ms/step - loss: 0.0000e+00 - accuracy: 1.0000\n",
            "Epoch 18/100\n",
            "1/1 [==============================] - 0s 13ms/step - loss: 0.0000e+00 - accuracy: 1.0000\n",
            "Epoch 19/100\n",
            "1/1 [==============================] - 0s 14ms/step - loss: 0.0000e+00 - accuracy: 1.0000\n",
            "Epoch 20/100\n",
            "1/1 [==============================] - 0s 13ms/step - loss: 0.0000e+00 - accuracy: 1.0000\n",
            "Epoch 21/100\n",
            "1/1 [==============================] - 0s 13ms/step - loss: 0.0000e+00 - accuracy: 1.0000\n",
            "Epoch 22/100\n",
            "1/1 [==============================] - 0s 14ms/step - loss: 0.0000e+00 - accuracy: 1.0000\n",
            "Epoch 23/100\n",
            "1/1 [==============================] - 0s 15ms/step - loss: 0.0000e+00 - accuracy: 1.0000\n",
            "Epoch 24/100\n",
            "1/1 [==============================] - 0s 15ms/step - loss: 0.0000e+00 - accuracy: 1.0000\n",
            "Epoch 25/100\n",
            "1/1 [==============================] - 0s 18ms/step - loss: 0.0000e+00 - accuracy: 1.0000\n",
            "Epoch 26/100\n",
            "1/1 [==============================] - 0s 15ms/step - loss: 0.0000e+00 - accuracy: 1.0000\n",
            "Epoch 27/100\n",
            "1/1 [==============================] - 0s 14ms/step - loss: 0.0000e+00 - accuracy: 1.0000\n",
            "Epoch 28/100\n",
            "1/1 [==============================] - 0s 14ms/step - loss: 0.0000e+00 - accuracy: 1.0000\n",
            "Epoch 29/100\n",
            "1/1 [==============================] - 0s 15ms/step - loss: 0.0000e+00 - accuracy: 1.0000\n",
            "Epoch 30/100\n",
            "1/1 [==============================] - 0s 13ms/step - loss: 0.0000e+00 - accuracy: 1.0000\n",
            "Epoch 31/100\n",
            "1/1 [==============================] - 0s 12ms/step - loss: 0.0000e+00 - accuracy: 1.0000\n",
            "Epoch 32/100\n",
            "1/1 [==============================] - 0s 17ms/step - loss: 0.0000e+00 - accuracy: 1.0000\n",
            "Epoch 33/100\n",
            "1/1 [==============================] - 0s 16ms/step - loss: 0.0000e+00 - accuracy: 1.0000\n",
            "Epoch 34/100\n",
            "1/1 [==============================] - 0s 14ms/step - loss: 0.0000e+00 - accuracy: 1.0000\n",
            "Epoch 35/100\n",
            "1/1 [==============================] - 0s 14ms/step - loss: 0.0000e+00 - accuracy: 1.0000\n",
            "Epoch 36/100\n",
            "1/1 [==============================] - 0s 12ms/step - loss: 0.0000e+00 - accuracy: 1.0000\n",
            "Epoch 37/100\n",
            "1/1 [==============================] - 0s 12ms/step - loss: 0.0000e+00 - accuracy: 1.0000\n",
            "Epoch 38/100\n",
            "1/1 [==============================] - 0s 12ms/step - loss: 0.0000e+00 - accuracy: 1.0000\n",
            "Epoch 39/100\n",
            "1/1 [==============================] - 0s 13ms/step - loss: 0.0000e+00 - accuracy: 1.0000\n",
            "Epoch 40/100\n",
            "1/1 [==============================] - 0s 14ms/step - loss: 0.0000e+00 - accuracy: 1.0000\n",
            "Epoch 41/100\n",
            "1/1 [==============================] - 0s 14ms/step - loss: 0.0000e+00 - accuracy: 1.0000\n",
            "Epoch 42/100\n",
            "1/1 [==============================] - 0s 16ms/step - loss: 0.0000e+00 - accuracy: 1.0000\n",
            "Epoch 43/100\n",
            "1/1 [==============================] - 0s 13ms/step - loss: 0.0000e+00 - accuracy: 1.0000\n",
            "Epoch 44/100\n",
            "1/1 [==============================] - 0s 12ms/step - loss: 0.0000e+00 - accuracy: 1.0000\n",
            "Epoch 45/100\n",
            "1/1 [==============================] - 0s 15ms/step - loss: 0.0000e+00 - accuracy: 1.0000\n",
            "Epoch 46/100\n",
            "1/1 [==============================] - 0s 16ms/step - loss: 0.0000e+00 - accuracy: 1.0000\n",
            "Epoch 47/100\n",
            "1/1 [==============================] - 0s 15ms/step - loss: 0.0000e+00 - accuracy: 1.0000\n",
            "Epoch 48/100\n",
            "1/1 [==============================] - 0s 17ms/step - loss: 0.0000e+00 - accuracy: 1.0000\n",
            "Epoch 49/100\n",
            "1/1 [==============================] - 0s 16ms/step - loss: 0.0000e+00 - accuracy: 1.0000\n",
            "Epoch 50/100\n",
            "1/1 [==============================] - 0s 13ms/step - loss: 0.0000e+00 - accuracy: 1.0000\n",
            "Epoch 51/100\n",
            "1/1 [==============================] - 0s 11ms/step - loss: 0.0000e+00 - accuracy: 1.0000\n",
            "Epoch 52/100\n",
            "1/1 [==============================] - 0s 12ms/step - loss: 0.0000e+00 - accuracy: 1.0000\n",
            "Epoch 53/100\n",
            "1/1 [==============================] - 0s 14ms/step - loss: 0.0000e+00 - accuracy: 1.0000\n",
            "Epoch 54/100\n",
            "1/1 [==============================] - 0s 11ms/step - loss: 0.0000e+00 - accuracy: 1.0000\n",
            "Epoch 55/100\n",
            "1/1 [==============================] - 0s 14ms/step - loss: 0.0000e+00 - accuracy: 1.0000\n",
            "Epoch 56/100\n",
            "1/1 [==============================] - 0s 12ms/step - loss: 0.0000e+00 - accuracy: 1.0000\n",
            "Epoch 57/100\n",
            "1/1 [==============================] - 0s 14ms/step - loss: 0.0000e+00 - accuracy: 1.0000\n",
            "Epoch 58/100\n",
            "1/1 [==============================] - 0s 14ms/step - loss: 0.0000e+00 - accuracy: 1.0000\n",
            "Epoch 59/100\n",
            "1/1 [==============================] - 0s 14ms/step - loss: 0.0000e+00 - accuracy: 1.0000\n",
            "Epoch 60/100\n",
            "1/1 [==============================] - 0s 15ms/step - loss: 0.0000e+00 - accuracy: 1.0000\n",
            "Epoch 61/100\n",
            "1/1 [==============================] - 0s 11ms/step - loss: 0.0000e+00 - accuracy: 1.0000\n",
            "Epoch 62/100\n",
            "1/1 [==============================] - 0s 18ms/step - loss: 0.0000e+00 - accuracy: 1.0000\n",
            "Epoch 63/100\n",
            "1/1 [==============================] - 0s 14ms/step - loss: 0.0000e+00 - accuracy: 1.0000\n",
            "Epoch 64/100\n",
            "1/1 [==============================] - 0s 11ms/step - loss: 0.0000e+00 - accuracy: 1.0000\n",
            "Epoch 65/100\n",
            "1/1 [==============================] - 0s 12ms/step - loss: 0.0000e+00 - accuracy: 1.0000\n",
            "Epoch 66/100\n",
            "1/1 [==============================] - 0s 15ms/step - loss: 0.0000e+00 - accuracy: 1.0000\n",
            "Epoch 67/100\n",
            "1/1 [==============================] - 0s 12ms/step - loss: 0.0000e+00 - accuracy: 1.0000\n",
            "Epoch 68/100\n",
            "1/1 [==============================] - 0s 16ms/step - loss: 0.0000e+00 - accuracy: 1.0000\n",
            "Epoch 69/100\n",
            "1/1 [==============================] - 0s 15ms/step - loss: 0.0000e+00 - accuracy: 1.0000\n",
            "Epoch 70/100\n",
            "1/1 [==============================] - 0s 13ms/step - loss: 0.0000e+00 - accuracy: 1.0000\n",
            "Epoch 71/100\n",
            "1/1 [==============================] - 0s 12ms/step - loss: 0.0000e+00 - accuracy: 1.0000\n",
            "Epoch 72/100\n",
            "1/1 [==============================] - 0s 12ms/step - loss: 0.0000e+00 - accuracy: 1.0000\n",
            "Epoch 73/100\n",
            "1/1 [==============================] - 0s 14ms/step - loss: 0.0000e+00 - accuracy: 1.0000\n",
            "Epoch 74/100\n",
            "1/1 [==============================] - 0s 14ms/step - loss: 0.0000e+00 - accuracy: 1.0000\n",
            "Epoch 75/100\n",
            "1/1 [==============================] - 0s 13ms/step - loss: 0.0000e+00 - accuracy: 1.0000\n",
            "Epoch 76/100\n",
            "1/1 [==============================] - 0s 12ms/step - loss: 0.0000e+00 - accuracy: 1.0000\n",
            "Epoch 77/100\n",
            "1/1 [==============================] - 0s 13ms/step - loss: 0.0000e+00 - accuracy: 1.0000\n",
            "Epoch 78/100\n",
            "1/1 [==============================] - 0s 16ms/step - loss: 0.0000e+00 - accuracy: 1.0000\n",
            "Epoch 79/100\n",
            "1/1 [==============================] - 0s 12ms/step - loss: 0.0000e+00 - accuracy: 1.0000\n",
            "Epoch 80/100\n",
            "1/1 [==============================] - 0s 13ms/step - loss: 0.0000e+00 - accuracy: 1.0000\n",
            "Epoch 81/100\n",
            "1/1 [==============================] - 0s 15ms/step - loss: 0.0000e+00 - accuracy: 1.0000\n",
            "Epoch 82/100\n",
            "1/1 [==============================] - 0s 17ms/step - loss: 0.0000e+00 - accuracy: 1.0000\n",
            "Epoch 83/100\n",
            "1/1 [==============================] - 0s 13ms/step - loss: 0.0000e+00 - accuracy: 1.0000\n",
            "Epoch 84/100\n",
            "1/1 [==============================] - 0s 15ms/step - loss: 0.0000e+00 - accuracy: 1.0000\n",
            "Epoch 85/100\n",
            "1/1 [==============================] - 0s 16ms/step - loss: 0.0000e+00 - accuracy: 1.0000\n",
            "Epoch 86/100\n",
            "1/1 [==============================] - 0s 16ms/step - loss: 0.0000e+00 - accuracy: 1.0000\n",
            "Epoch 87/100\n",
            "1/1 [==============================] - 0s 12ms/step - loss: 0.0000e+00 - accuracy: 1.0000\n",
            "Epoch 88/100\n",
            "1/1 [==============================] - 0s 13ms/step - loss: 0.0000e+00 - accuracy: 1.0000\n",
            "Epoch 89/100\n",
            "1/1 [==============================] - 0s 15ms/step - loss: 0.0000e+00 - accuracy: 1.0000\n",
            "Epoch 90/100\n",
            "1/1 [==============================] - 0s 12ms/step - loss: 0.0000e+00 - accuracy: 1.0000\n",
            "Epoch 91/100\n",
            "1/1 [==============================] - 0s 15ms/step - loss: 0.0000e+00 - accuracy: 1.0000\n",
            "Epoch 92/100\n",
            "1/1 [==============================] - 0s 12ms/step - loss: 0.0000e+00 - accuracy: 1.0000\n",
            "Epoch 93/100\n",
            "1/1 [==============================] - 0s 16ms/step - loss: 0.0000e+00 - accuracy: 1.0000\n",
            "Epoch 94/100\n",
            "1/1 [==============================] - 0s 16ms/step - loss: 0.0000e+00 - accuracy: 1.0000\n",
            "Epoch 95/100\n",
            "1/1 [==============================] - 0s 15ms/step - loss: 0.0000e+00 - accuracy: 1.0000\n",
            "Epoch 96/100\n",
            "1/1 [==============================] - 0s 17ms/step - loss: 0.0000e+00 - accuracy: 1.0000\n",
            "Epoch 97/100\n",
            "1/1 [==============================] - 0s 13ms/step - loss: 0.0000e+00 - accuracy: 1.0000\n",
            "Epoch 98/100\n",
            "1/1 [==============================] - 0s 13ms/step - loss: 0.0000e+00 - accuracy: 1.0000\n",
            "Epoch 99/100\n",
            "1/1 [==============================] - 0s 16ms/step - loss: 0.0000e+00 - accuracy: 1.0000\n",
            "Epoch 100/100\n",
            "1/1 [==============================] - 0s 12ms/step - loss: 0.0000e+00 - accuracy: 1.0000\n"
          ]
        }
      ]
    },
    {
      "cell_type": "code",
      "source": [
        "model.save('NhanDangKhuonMat.h5')"
      ],
      "metadata": {
        "id": "8ZSkQdGzsVEn"
      },
      "execution_count": 10,
      "outputs": []
    },
    {
      "cell_type": "code",
      "source": [
        "from keras.models import load_model\n",
        "models=load_model('NhanDangKhuonMat.h5')"
      ],
      "metadata": {
        "id": "JASpPvr2sXZz"
      },
      "execution_count": 11,
      "outputs": []
    },
    {
      "cell_type": "code",
      "source": [
        "from keras.saving.model_config import model_from_json\n",
        "import matplotlib.pyplot as plt\n",
        "from tensorflow.keras.utils import load_img, img_to_array\n",
        "import numpy as np\n",
        "img = load_img('/content/gdrive/MyDrive/khuonmat/photo.jpg', target_size=(150,150))\n",
        "plt.imshow(img)\n",
        "img = img_to_array(img)\n",
        "img = img.reshape(1,150,150,3) \n",
        "img = img.astype('float32')\n",
        "img = img/255\n",
        "np.argmax(models.predict(img), axis=1)\n",
        "print('Giá trị:', np.argmax(models.predict(img)))\n",
        "if np.argmax(models.predict(img)) == 0:\n",
        "   print(name)\n",
        "   print(\"Xin mời thực hiện các bước tiếp theo để tính tỷ lệ vàng khuôn mặt\")\n",
        "else:\n",
        "    print(\"Cảnh báo! Khuôn mặt không xác định, vui lòng cân nhắc trước khi thực hiện tiếp các bước.\")"
      ],
      "metadata": {
        "colab": {
          "base_uri": "https://localhost:8080/",
          "height": 321
        },
        "id": "sYE0IDmRsdjO",
        "outputId": "ca5d935c-b17e-4391-dab0-4d24127d9b0b"
      },
      "execution_count": 12,
      "outputs": [
        {
          "output_type": "stream",
          "name": "stdout",
          "text": [
            "Giá trị: 0\n",
            "Nguyen Cong Phu\n",
            "Xin mời thực hiện các bước tiếp theo để tính tỷ lệ vàng khuôn mặt\n"
          ]
        },
        {
          "output_type": "display_data",
          "data": {
            "text/plain": [
              "<Figure size 432x288 with 1 Axes>"
            ],
            "image/png": "[encoded data removed]"
          },
          "metadata": {
            "needs_background": "light"
          }
        }
      ]
    },
    {
      "cell_type": "markdown",
      "metadata": {
        "id": "94Q2E5kBlDqD"
      },
      "source": [
        "### Ảnh để tính tỷ lệ vàng khuôn mặt"
      ]
    },
    {
      "cell_type": "code",
      "execution_count": 13,
      "metadata": {
        "id": "VfVSyABElDqD"
      },
      "outputs": [],
      "source": [
        "path = '/content/gdrive/MyDrive/khuonmat/'  # Lưu ý: thêm \"/\" vào sau link\n",
        "name = 'photo.jpg'\n",
        "### link của ảnh\n",
        "photo = f\"{path}\" + f\"{name}\""
      ]
    },
    {
      "cell_type": "code",
      "source": [
        "cv2.imread(photo)"
      ],
      "metadata": {
        "colab": {
          "base_uri": "https://localhost:8080/"
        },
        "id": "FZBFBx5giOaX",
        "outputId": "3b6261fa-4fa4-4837-f22a-4256fb861e7b"
      },
      "execution_count": 14,
      "outputs": [
        {
          "output_type": "execute_result",
          "data": {
            "text/plain": [
              "array([[[111, 108, 117],\n",
              "        [110, 107, 116],\n",
              "        [110, 107, 116],\n",
              "        ...,\n",
              "        [ 58,  74,  81],\n",
              "        [ 60,  69,  79],\n",
              "        [ 60,  66,  77]],\n",
              "\n",
              "       [[112, 109, 118],\n",
              "        [111, 108, 117],\n",
              "        [111, 108, 117],\n",
              "        ...,\n",
              "        [ 57,  70,  78],\n",
              "        [ 59,  65,  76],\n",
              "        [ 59,  63,  74]],\n",
              "\n",
              "       [[113, 110, 119],\n",
              "        [112, 109, 118],\n",
              "        [111, 108, 117],\n",
              "        ...,\n",
              "        [ 56,  67,  75],\n",
              "        [ 59,  63,  74],\n",
              "        [ 59,  61,  72]],\n",
              "\n",
              "       ...,\n",
              "\n",
              "       [[ 87,  93,  98],\n",
              "        [ 88,  94,  99],\n",
              "        [ 92,  95, 100],\n",
              "        ...,\n",
              "        [ 20,  14,  25],\n",
              "        [ 19,  13,  24],\n",
              "        [ 18,  12,  23]],\n",
              "\n",
              "       [[ 89,  95, 100],\n",
              "        [ 89,  95, 100],\n",
              "        [ 92,  95, 100],\n",
              "        ...,\n",
              "        [ 20,  14,  25],\n",
              "        [ 19,  13,  24],\n",
              "        [ 18,  12,  23]],\n",
              "\n",
              "       [[ 90,  96, 101],\n",
              "        [ 90,  96, 101],\n",
              "        [ 93,  96, 101],\n",
              "        ...,\n",
              "        [ 20,  14,  25],\n",
              "        [ 19,  13,  24],\n",
              "        [ 18,  12,  23]]], dtype=uint8)"
            ]
          },
          "metadata": {},
          "execution_count": 14
        }
      ]
    },
    {
      "cell_type": "markdown",
      "metadata": {
        "id": "3D_GYRZZlDqE"
      },
      "source": [
        "### Xác định landmark trong ảnh"
      ]
    },
    {
      "cell_type": "code",
      "execution_count": 15,
      "metadata": {
        "id": "lR1aHjmzlDqF"
      },
      "outputs": [],
      "source": [
        "image = face_recognition.load_image_file(photo)\n",
        "\n",
        "face_landmarks_list = face_recognition.face_landmarks(image) \n",
        "\n",
        "if (len(face_landmarks_list))>1:\n",
        "   print(\"Cảnh báo, có quá nhiều khuôn mặt trong ảnh!\")\n",
        "elif (len(face_landmarks_list))==0:\n",
        "   print(\"Xin lỗi, chúng tôi không thấy mặt người trong ảnh!\")\n",
        "\n",
        "pil_image = Img.fromarray(image)\n",
        "d = ImageDraw.Draw(pil_image)"
      ]
    },
    {
      "cell_type": "code",
      "execution_count": 16,
      "metadata": {
        "id": "6L14rlEllDqG"
      },
      "outputs": [],
      "source": [
        "nose_top=[]\n",
        "\n",
        "#extraction of coordinates\n",
        "lists=[]\n",
        "   \n",
        "for face_landmarks in face_landmarks_list:\n",
        "\n",
        "    # Print the location of each facial feature in this image\n",
        "    for facial_feature in face_landmarks.keys():\n",
        "        #print(\"The {} in this face has the following points: {}\".format(facial_feature, face_landmarks[facial_feature]))\n",
        "        lists.append(face_landmarks[facial_feature])  #first list is chin, 2nd list is left eyebrow, 3rd is right eyebrow, 4th is nose bridge, 5th is nose tip, 6th is left eye, 7th is right eye, 8th is top lip, 9th is bottom lip\n",
        "    n=0\n",
        "    # Let's trace out each facial feature in the image with a line!\n",
        "    for facial_feature in face_landmarks.keys():\n",
        "        n=n+1\n",
        "        m=str(n)\n",
        "        d.point(face_landmarks[facial_feature])\n"
      ]
    },
    {
      "cell_type": "code",
      "execution_count": 17,
      "metadata": {
        "id": "IV45X-52lDqH"
      },
      "outputs": [],
      "source": [
        "# Show the picture\n",
        "# pil_image.show()\n",
        "pil_image.save('/content/gdrive/MyDrive/khuonmat/my_face_landmarks.jpg')\n",
        "\n",
        "chin=[]\n",
        "left_eyebrow=[]\n",
        "right_eyebrow=[]\n",
        "nose_bridge=[]\n",
        "nose_tip=[]\n",
        "left_eye=[]\n",
        "right_eye=[]\n",
        "top_lip=[]\n",
        "bottom_lip=[]\n",
        "\n",
        "chin.append(lists[0])\n",
        "left_eyebrow.append(lists[1])\n",
        "right_eyebrow.append(lists[2])\n",
        "nose_bridge.append(lists[3])\n",
        "nose_tip.append(lists[4])\n",
        "left_eye.append(lists[5])\n",
        "right_eye.append(lists[6])\n",
        "top_lip.append(lists[7])\n",
        "bottom_lip.append(lists[8])"
      ]
    },
    {
      "cell_type": "markdown",
      "metadata": {
        "id": "5ikjAfW3lDqI"
      },
      "source": [
        "## scipy.constants.golden = ~1.618: Tỷ lệ vàng"
      ]
    },
    {
      "cell_type": "code",
      "execution_count": 18,
      "metadata": {
        "id": "syfPDrJUlDqJ"
      },
      "outputs": [],
      "source": [
        "# khoảng cách từ đỉnh mũi đến giữa môi phải bằng 1,618 lần khoảng cách từ giữa môi đến cằm\n",
        "(x1,y1)=nose_bridge[0][0]\n",
        "(x2,y2)=top_lip[0][9]\n",
        "(x3,y3)=bottom_lip[0][9]\n",
        "(x4,y4)=chin[0][8]\n",
        "a=(((y2+y3)/2)-y1)\n",
        "b=((y4-((y2+y3)/2)))\n",
        "value1=((b/a)/(scipy.constants.golden))*100\n",
        "\n",
        "# chiều dài của khuôn mặt chia cho chiều rộng của khuôn mặt\n",
        "(x1,y1)=chin[0][0]\n",
        "(x2,y2)=chin[0][16]\n",
        "(x3,y3)=chin[0][8]\n",
        "a=x2-x1\n",
        "b=y3-y1\n",
        "value2=((b/a)/scipy.constants.golden)*100"
      ]
    },
    {
      "cell_type": "markdown",
      "metadata": {
        "id": "JnDwEaW3lDqK"
      },
      "source": [
        "#### Tính tỷ lệ vàng của mũi"
      ]
    },
    {
      "cell_type": "code",
      "execution_count": 19,
      "metadata": {
        "id": "wHlpm4qllDqK",
        "colab": {
          "base_uri": "https://localhost:8080/"
        },
        "outputId": "f6e0d860-4cd4-4201-a55e-85d70b484751"
      },
      "outputs": [
        {
          "output_type": "stream",
          "name": "stdout",
          "text": [
            "Điểm số tỷ lệ vàng của mũi bạn là:  63.27 %\n"
          ]
        }
      ],
      "source": [
        "# Phan_tram_ty_le_vang = [(chiều dài mũi chia cho chiều rộng mũi) /1,618] * 100%\n",
        "\n",
        "(x1,y1)=nose_bridge[0][3]\n",
        "(x2,y2)=nose_tip[0][4]\n",
        "value3=((y1/x2)/(scipy.constants.golden))*100\n",
        "print(\"Điểm số tỷ lệ vàng của mũi bạn là: \",round(value3,2),\"%\")"
      ]
    },
    {
      "cell_type": "markdown",
      "metadata": {
        "id": "LFvCoi9FlDqL"
      },
      "source": [
        "#### Lông mày"
      ]
    },
    {
      "cell_type": "code",
      "execution_count": 20,
      "metadata": {
        "id": "yb4SaAk6lDqL",
        "colab": {
          "base_uri": "https://localhost:8080/"
        },
        "outputId": "4dd0d3ff-16bb-42f9-dffd-ba1e4cdc8708"
      },
      "outputs": [
        {
          "output_type": "stream",
          "name": "stdout",
          "text": [
            "Điểm số tỷ lệ vàng của lông mày phải bạn là:  35.51 %\n",
            "Điểm số tỷ lệ vàng của lông mày trái bạn là:  34.46 %\n"
          ]
        }
      ],
      "source": [
        "# Lông mày: đo lông mày của bạn từ điểm cuối gần mũi nhất đến vòm chân mày theo một đường thẳng\n",
        "\n",
        "(x1,y1)=left_eyebrow[0][2]\n",
        "(x2,y2)=left_eyebrow[0][4]\n",
        "(x3,y3)=right_eyebrow[0][0]\n",
        "(x4,y4)=right_eyebrow[0][2]\n",
        "a1=x2-x1\n",
        "b1=y1-y2\n",
        "a2=x4-x3\n",
        "b2=y3-y4\n",
        "result1=np.sqrt((a1**2)+(b1**2))\n",
        "result2=np.sqrt((a2**2)+(b2**2))\n",
        "\n",
        "(x1,y1)=left_eyebrow[0][0]\n",
        "(x2,y2)=left_eyebrow[0][4]\n",
        "(x3,y3)=right_eyebrow[0][0]\n",
        "(x4,y4)=right_eyebrow[0][4]\n",
        "a1=x2-x1\n",
        "b1=y1-y2\n",
        "a2=x4-x3\n",
        "b2=y4-y3\n",
        "result3=np.sqrt((a1**2)+(b1**2))\n",
        "result4=np.sqrt((a2**2)+(b2**2))\n",
        "\n",
        "value4=((result1/result3)/(scipy.constants.golden))*100    # Mắt trái\n",
        "value5=((result2/result4)/(scipy.constants.golden))*100    # Mắt phải\n",
        "print(\"Điểm số tỷ lệ vàng của lông mày phải bạn là: \",round(value4,2),\"%\")\n",
        "print(\"Điểm số tỷ lệ vàng của lông mày trái bạn là: \",round(value5,2),\"%\")"
      ]
    },
    {
      "cell_type": "markdown",
      "metadata": {
        "id": "Vcw9ktHtlDqM"
      },
      "source": [
        "Môi"
      ]
    },
    {
      "cell_type": "code",
      "execution_count": 21,
      "metadata": {
        "id": "yULfrFo4lDqM",
        "colab": {
          "base_uri": "https://localhost:8080/"
        },
        "outputId": "82ab7c43-9879-4c91-f4f8-e6808d023adb"
      },
      "outputs": [
        {
          "output_type": "stream",
          "name": "stdout",
          "text": [
            "Điểm số tỷ lệ vàng của môi của bạn là:  38.74 %\n"
          ]
        }
      ],
      "source": [
        "# Môi: chiều dài môi chia chiều rộng môi\n",
        "\n",
        "(x1,y1)=top_lip[0][0]\n",
        "(x2,y2)=bottom_lip[0][0]\n",
        "(x3,y3)=nose_tip[0][0]\n",
        "(x4,y4)=nose_tip[0][4]\n",
        "a1=x2-x1\n",
        "b1=x4-x3\n",
        "value6=((b1/a1)/(scipy.constants.golden))*100       #not included in final measurement\n",
        "print(\"Điểm số tỷ lệ vàng của môi của bạn là: \",round(value6,2),\"%\")"
      ]
    },
    {
      "cell_type": "markdown",
      "metadata": {
        "id": "DwzWi2aNlDqN"
      },
      "source": [
        "#### Mắt"
      ]
    },
    {
      "cell_type": "code",
      "execution_count": 22,
      "metadata": {
        "id": "NOtAZ0q4lDqN",
        "colab": {
          "base_uri": "https://localhost:8080/"
        },
        "outputId": "81548872-0417-4051-deb3-c00ae4552394"
      },
      "outputs": [
        {
          "output_type": "stream",
          "name": "stdout",
          "text": [
            "Điểm số tỷ lệ vàng của mắt phải bạn là:  30.34 %\n",
            "Điểm số tỷ lệ vàng của mắt trái bạn là:  31.46 %\n"
          ]
        }
      ],
      "source": [
        "(x1,y1)=top_lip[0][0]\n",
        "(x2,y2)=nose_tip[0][4]\n",
        "(x3,y3)=bottom_lip[0][0]\n",
        "(x4,y4)=nose_tip[0][0]\n",
        "a1=x2-x1\n",
        "b1=y1-y2\n",
        "a2=x3-x4\n",
        "b2=y3-y4\n",
        "c1=x2-x4\n",
        "result1=np.sqrt((a1**2)+(b1**2))\n",
        "result2=np.sqrt((a2**2)+(b2**2))\n",
        "value7=((c1/result1)/(scipy.constants.golden))*100\n",
        "value8=((c1/result2)/(scipy.constants.golden))*100\n",
        "\n",
        "(x1,y1)=left_eye[0][0]\n",
        "(x2,y2)=left_eye[0][3]\n",
        "(x3,y3)=right_eye[0][0]\n",
        "(x4,y4)=right_eye[0][3]\n",
        "a1=x2-x1\n",
        "b1=x4-x3\n",
        "c1=x3-x2\n",
        "\n",
        "value9=((a1/c1)/(scipy.constants.golden))*100  #left eye\n",
        "value10=((b1/c1)/(scipy.constants.golden))*100  #right eye\n",
        "print(\"Điểm số tỷ lệ vàng của mắt phải bạn là: \",round(value9,2),\"%\")\n",
        "print(\"Điểm số tỷ lệ vàng của mắt trái bạn là: \",round(value10,2),\"%\")"
      ]
    },
    {
      "cell_type": "markdown",
      "metadata": {
        "id": "AyoXI17tlDqO"
      },
      "source": [
        "### Tính tổng thể"
      ]
    },
    {
      "cell_type": "code",
      "execution_count": 23,
      "metadata": {
        "id": "IHO9jWjZlDqO",
        "colab": {
          "base_uri": "https://localhost:8080/"
        },
        "outputId": "10c1b861-99a3-4d12-adcf-bd4ea6400090"
      },
      "outputs": [
        {
          "output_type": "stream",
          "name": "stdout",
          "text": [
            "Tỷ lệ vàng của khuôn mặt của bạn là:  1.536\n",
            "Kết luận, điểm số tỷ lệ vàng tổng thể của khuôn mặt bạn là:  94.95 %\n"
          ]
        }
      ],
      "source": [
        "(x1,y1)=nose_tip[0][2]\n",
        "(x2,y2)=right_eye[0][3]\n",
        "(x3,y3)=bottom_lip[0][0]\n",
        "(x4,y4)=top_lip[0][0]\n",
        "(x5,y5)=left_eye[0][0]\n",
        "a1=x2-x1\n",
        "b1=y1-y2\n",
        "result1=np.sqrt((a1**2)+(b1**2))\n",
        "a2=x2-x3\n",
        "b2=y3-y2\n",
        "result2=np.sqrt((a2**2)+(b2**2))\n",
        "a3=x1-x5\n",
        "b3=y1-y5\n",
        "result3=np.sqrt((a3**2)+(b3**2))\n",
        "a4=x4-x5\n",
        "b4=y4-y5\n",
        "result4=np.sqrt((a4**2)+(b4**2))\n",
        "value11=((result1/result2)/(scipy.constants.golden))*100\n",
        "value12=((result3/result4)/(scipy.constants.golden))*100\n",
        "\n",
        "(x1,y1)=top_lip[0][0]\n",
        "(x2,y2)=top_lip[0][6]\n",
        "(x3,y3)=bottom_lip[0][6]\n",
        "(x4,y4)=bottom_lip[0][0]\n",
        "#width\n",
        "(x5,y5)=top_lip[0][3]\n",
        "(x6,y6)=top_lip[0][9]\n",
        "(x7,y7)=bottom_lip[0][3]\n",
        "(x8,y8)=bottom_lip[0][9]\n",
        "a1=x2-x1\n",
        "b1=y6-y5\n",
        "value13=((b1/a1)/(scipy.constants.golden))*100           #unused measurements\n",
        "a2=x4-x3\n",
        "b2=y7-y8\n",
        "value14=((b1/a1)/(scipy.constants.golden))*100\n",
        "\n",
        "(x9,y9)=nose_tip[0][2]\n",
        "(x10,y10)=nose_bridge[0][0]\n",
        "(x11,y11)=nose_tip[0][0]\n",
        "(x12,y12)=nose_tip[0][4]\n",
        "a1=y9-y10\n",
        "b1=x12-x11\n",
        "value15=((b1/a1)/(scipy.constants.golden))*100\n",
        "\n",
        "(x1,y1)=chin[0][7]\n",
        "(x2,y2)=chin[0][9]\n",
        "a1=x2-x1\n",
        "(x3,y3)=bottom_lip[0][6]\n",
        "(x4,y4)=bottom_lip[0][0]\n",
        "b1=x4-x3\n",
        "value16=((a1/b1)/(scipy.constants.golden))*100\n",
        "\n",
        "finalvalue=((value1+value2+value3+value4+value5+value6+value7+value8+value9+value10+value11+value12+value16)/600)*100\n",
        "print(\"Tỷ lệ vàng của khuôn mặt của bạn là: \", round(finalvalue*scipy.constants.golden/100,3))\n",
        "print(\"Kết luận, điểm số tỷ lệ vàng tổng thể của khuôn mặt bạn là: \",round(finalvalue,2),\"%\")"
      ]
    },
    {
      "cell_type": "markdown",
      "metadata": {
        "id": "OE9fqzE5lDqO"
      },
      "source": [
        "## Tổng hợp"
      ]
    },
    {
      "cell_type": "code",
      "execution_count": 24,
      "metadata": {
        "id": "xDbYKpnClDqP",
        "colab": {
          "base_uri": "https://localhost:8080/"
        },
        "outputId": "b7c4c832-e262-4356-eb7d-92d241743df4"
      },
      "outputs": [
        {
          "output_type": "stream",
          "name": "stdout",
          "text": [
            "Xin chào photo.jpg, vui lòng xem thông số tỷ lệ khuôn mặt của bạn ở dưới đây: \n",
            "Tổng hợp tỷ lệ vàng của khuôn mặt bạn là: \n",
            "Điểm số tỷ lệ vàng của mũi bạn là:  63.26620121522591 %\n",
            "Điểm số tỷ lệ vàng của lông mày phải bạn là:  35.51 %\n",
            "Điểm số tỷ lệ vàng của lông mày trái bạn là:  34.46 %\n",
            "Điểm số tỷ lệ vàng của mắt phải bạn là:  30.34 %\n",
            "Điểm số tỷ lệ vàng của mắt trái bạn là:  31.46 %\n",
            "Tỷ lệ vàng của khuôn mặt của bạn là:  1.536\n",
            "Kết luận:::: điểm số tỷ lệ vàng tổng thể của khuôn mặt bạn là:  94.95 %\n"
          ]
        }
      ],
      "source": [
        "print(f\"Xin chào {name}, vui lòng xem thông số tỷ lệ khuôn mặt của bạn ở dưới đây: \")\n",
        "print(\"Tổng hợp tỷ lệ vàng của khuôn mặt bạn là: \")\n",
        "print(\"Điểm số tỷ lệ vàng của mũi bạn là: \",value3,\"%\")\n",
        "print(\"Điểm số tỷ lệ vàng của lông mày phải bạn là: \",round(value4,2),\"%\")\n",
        "print(\"Điểm số tỷ lệ vàng của lông mày trái bạn là: \",round(value5,2),\"%\")\n",
        "print(\"Điểm số tỷ lệ vàng của mắt phải bạn là: \",round(value9,2),\"%\")\n",
        "print(\"Điểm số tỷ lệ vàng của mắt trái bạn là: \",round(value10,2),\"%\")\n",
        "print(\"Tỷ lệ vàng của khuôn mặt của bạn là: \", round(finalvalue*scipy.constants.golden/100,3))\n",
        "print(\"Kết luận:::: điểm số tỷ lệ vàng tổng thể của khuôn mặt bạn là: \",round(finalvalue,2),\"%\")"
      ]
    },
    {
      "cell_type": "code",
      "source": [
        ""
      ],
      "metadata": {
        "id": "Fecp-ffz6XQs"
      },
      "execution_count": null,
      "outputs": []
    }
  ],
  "metadata": {
    "kernelspec": {
      "display_name": "Python 3.8.8 ('base')",
      "language": "python",
      "name": "python3"
    },
    "language_info": {
      "codemirror_mode": {
        "name": "ipython",
        "version": 3
      },
      "file_extension": ".py",
      "mimetype": "text/x-python",
      "name": "python",
      "nbconvert_exporter": "python",
      "pygments_lexer": "ipython3",
      "version": "3.8.8"
    },
    "orig_nbformat": 4,
    "vscode": {
      "interpreter": {
        "hash": "ad2bdc8ecc057115af97d19610ffacc2b4e99fae6737bb82f5d7fb13d2f2c186"
      }
    },
    "colab": {
      "name": "ty_le_vang_khuon_mat.ipynb",
      "provenance": []
    },
    "accelerator": "GPU",
    "gpuClass": "standard"
  },
  "nbformat": 4,
  "nbformat_minor": 0
}